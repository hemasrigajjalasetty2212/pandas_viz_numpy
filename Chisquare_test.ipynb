{
  "nbformat": 4,
  "nbformat_minor": 0,
  "metadata": {
    "colab": {
      "provenance": [],
      "authorship_tag": "ABX9TyPLJl6N3Ra2TDpZ0vVeC5L/",
      "include_colab_link": true
    },
    "kernelspec": {
      "name": "python3",
      "display_name": "Python 3"
    },
    "language_info": {
      "name": "python"
    }
  },
  "cells": [
    {
      "cell_type": "markdown",
      "metadata": {
        "id": "view-in-github",
        "colab_type": "text"
      },
      "source": [
        "<a href=\"https://colab.research.google.com/github/hemasrigajjalasetty2212/pandas_viz_numpy/blob/main/Chisquare_test.ipynb\" target=\"_parent\"><img src=\"https://colab.research.google.com/assets/colab-badge.svg\" alt=\"Open In Colab\"/></a>"
      ]
    },
    {
      "cell_type": "code",
      "execution_count": 11,
      "metadata": {
        "colab": {
          "base_uri": "https://localhost:8080/"
        },
        "id": "-jzEHUHHWLkp",
        "outputId": "bda4c112-5dc2-4952-a2c2-9bc2ff01ff4e"
      },
      "outputs": [
        {
          "output_type": "stream",
          "name": "stdout",
          "text": [
            "Degree of frequancy: 4\n",
            "P-value: 0.22784371130697179\n",
            "Expected Frequencies: [[ 48.  72.]\n",
            " [ 72. 108.]\n",
            " [ 60.  90.]\n",
            " [ 32.  48.]\n",
            " [ 28.  42.]]\n",
            "Chi-Square Statistic: 5.638227513227513\n",
            "Critical Value: 9.487729036781154\n",
            "Fail to reject the null hypothesis. No significant association between device type and customer satisfaction.\n"
          ]
        }
      ],
      "source": [
        "# Chisquare testing\n",
        "\n",
        "# Import necessary library\n",
        "import numpy as np\n",
        "import scipy.stats as stats\n",
        "\n",
        "# Contingency table\n",
        "table = np.array([[50, 70], [80, 100], [60, 90], [30, 50], [20, 50]])\n",
        "\n",
        "# Perform Chi-Square test\n",
        "chi2, p, dof, expected = stats.chi2_contingency(table)\n",
        "\n",
        "# Print results\n",
        "print(\"Degree of frequancy:\", dof)\n",
        "print(\"P-value:\", p)\n",
        "print(\"Expected Frequencies:\", expected)\n",
        "print(\"Chi-Square Statistic:\", chi2)\n",
        "\n",
        "# Determine critical value\n",
        "alpha = 0.05\n",
        "critical_value = stats.chi2.ppf(1 - alpha, dof)\n",
        "print(\"Critical Value:\", critical_value)\n",
        "\n",
        "# Make decision\n",
        "if chi2 > critical_value:\n",
        "    print(\"Reject the null hypothesis. There is a significant association between device type and customer satisfaction.\")\n",
        "else:\n",
        "    print(\"Fail to reject the null hypothesis. No significant association between device type and customer satisfaction.\")\n"
      ]
    },
    {
      "cell_type": "code",
      "source": [],
      "metadata": {
        "id": "2aaTZUDVWUZo"
      },
      "execution_count": null,
      "outputs": []
    }
  ]
}