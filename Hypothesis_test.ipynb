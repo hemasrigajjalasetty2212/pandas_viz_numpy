{
  "nbformat": 4,
  "nbformat_minor": 0,
  "metadata": {
    "colab": {
      "provenance": [],
      "authorship_tag": "ABX9TyNTsLUNiw4AxRDr2NYQN1Ml",
      "include_colab_link": true
    },
    "kernelspec": {
      "name": "python3",
      "display_name": "Python 3"
    },
    "language_info": {
      "name": "python"
    }
  },
  "cells": [
    {
      "cell_type": "markdown",
      "metadata": {
        "id": "view-in-github",
        "colab_type": "text"
      },
      "source": [
        "<a href=\"https://colab.research.google.com/github/hemasrigajjalasetty2212/pandas_viz_numpy/blob/main/Hypothesis_test.ipynb\" target=\"_parent\"><img src=\"https://colab.research.google.com/assets/colab-badge.svg\" alt=\"Open In Colab\"/></a>"
      ]
    },
    {
      "cell_type": "code",
      "source": [
        "# Hypothesis testing\n",
        "\n",
        "# Import necessary library\n",
        "import numpy as np\n",
        "from scipy import stats\n",
        "\n",
        "# Given values\n",
        "theoretical_cost = 1000 + 5*600  # $4000\n",
        "sample_mean = 3050\n",
        "sample_size = 25\n",
        "sigma = 5*25  # 125\n",
        "\n",
        "# Calculate test statistic\n",
        "test_statistic = (sample_mean - theoretical_cost) / (sigma / np.sqrt(sample_size))\n",
        "print(\"Test Statistic:\", test_statistic)\n",
        "\n",
        "# Determine critical value\n",
        "alpha = 0.05\n",
        "critical_value = stats.norm.ppf(1 - alpha/2)\n",
        "print(\"Critical Value:\", critical_value)\n",
        "\n",
        "# Make decision\n",
        "if abs(test_statistic) > critical_value:\n",
        "    print(\"Reject the null hypothesis. The weekly operating costs are higher than the model suggests.\")\n",
        "else:\n",
        "    print(\"Fail to reject the null hypothesis. The weekly operating costs are consistent with the model.\")"
      ],
      "metadata": {
        "id": "Mjghwf2uTQ_5",
        "colab": {
          "base_uri": "https://localhost:8080/"
        },
        "outputId": "89379bbd-9c52-4443-f800-45eb4ea712a9"
      },
      "execution_count": 8,
      "outputs": [
        {
          "output_type": "stream",
          "name": "stdout",
          "text": [
            "Test Statistic: -38.0\n",
            "Critical Value: 1.959963984540054\n",
            "Reject the null hypothesis. The weekly operating costs are higher than the model suggests.\n"
          ]
        }
      ]
    },
    {
      "cell_type": "code",
      "source": [],
      "metadata": {
        "id": "WqX3AthVQWSW"
      },
      "execution_count": null,
      "outputs": []
    }
  ]
}