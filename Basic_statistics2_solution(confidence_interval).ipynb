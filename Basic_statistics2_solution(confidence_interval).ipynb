{
  "nbformat": 4,
  "nbformat_minor": 0,
  "metadata": {
    "colab": {
      "provenance": [],
      "authorship_tag": "ABX9TyPObkwmHhoVIU+VeEmJyoCK",
      "include_colab_link": true
    },
    "kernelspec": {
      "name": "python3",
      "display_name": "Python 3"
    },
    "language_info": {
      "name": "python"
    }
  },
  "cells": [
    {
      "cell_type": "markdown",
      "metadata": {
        "id": "view-in-github",
        "colab_type": "text"
      },
      "source": [
        "<a href=\"https://colab.research.google.com/github/hemasrigajjalasetty2212/pandas_viz_numpy/blob/main/Basic_statistics2_solution(confidence_interval).ipynb\" target=\"_parent\"><img src=\"https://colab.research.google.com/assets/colab-badge.svg\" alt=\"Open In Colab\"/></a>"
      ]
    },
    {
      "cell_type": "code",
      "execution_count": null,
      "metadata": {
        "id": "y-e0NsC4u74i"
      },
      "outputs": [],
      "source": [
        "from scipy import stats\n",
        "import numpy as np"
      ]
    },
    {
      "cell_type": "code",
      "source": [
        "# Given data\n",
        "data = [1.13, 1.55, 1.43, 0.92, 1.25, 1.36, 1.32, 0.85, 1.07, 1.48, 1.20, 1.33, 1.18, 1.22, 1.29]"
      ],
      "metadata": {
        "id": "dIowH-8vu9J9"
      },
      "execution_count": null,
      "outputs": []
    },
    {
      "cell_type": "code",
      "source": [
        "# Calculate sample mean and standard deviation\n",
        "sample_mean = np.mean(data)\n",
        "sample_std = np.std(data, ddof=1)  # ddof=1 for sample standard deviation"
      ],
      "metadata": {
        "id": "cZXuKS-je3vs"
      },
      "execution_count": null,
      "outputs": []
    },
    {
      "cell_type": "code",
      "source": [
        "# 99% Confidence Interval using Sample Standard Deviation\n",
        "degrees_freedom = len(data) - 1\n",
        "critical_value = stats.t.ppf(0.995, degrees_freedom)  # 99% confidence level"
      ],
      "metadata": {
        "id": "tLjU9GhofAQl"
      },
      "execution_count": null,
      "outputs": []
    },
    {
      "cell_type": "code",
      "source": [
        "# calculate margin of error\n",
        "margin_error = critical_value * (sample_std / np.sqrt(len(data)))\n",
        "ci_sample = (sample_mean - margin_error, sample_mean + margin_error)"
      ],
      "metadata": {
        "id": "LVYO0IKriu7a"
      },
      "execution_count": null,
      "outputs": []
    },
    {
      "cell_type": "code",
      "source": [
        "# printing confidence interval for sample standard deviation\n",
        "ci_sample"
      ],
      "metadata": {
        "colab": {
          "base_uri": "https://localhost:8080/"
        },
        "id": "4xdPr371fXWK",
        "outputId": "136b4aaa-3df5-4e52-f6a3-8b8a6d2dfddc"
      },
      "execution_count": null,
      "outputs": [
        {
          "output_type": "execute_result",
          "data": {
            "text/plain": [
              "(1.0901973384384906, 1.3871359948948425)"
            ]
          },
          "metadata": {},
          "execution_count": 32
        }
      ]
    },
    {
      "cell_type": "code",
      "source": [
        "# 99% Confidence Interval using Known Population Standard Deviation\n",
        "pop_std = 0.2  # replace with known population standard deviation\n",
        "critical_value = stats.norm.ppf(0.995)  # 99% confidence level"
      ],
      "metadata": {
        "id": "5mUKxkVwfK58"
      },
      "execution_count": null,
      "outputs": []
    },
    {
      "cell_type": "code",
      "source": [
        "# calculate margin of error\n",
        "margin_error = critical_value * (pop_std / np.sqrt(len(data)))\n",
        "ci_pop = (sample_mean - margin_error, sample_mean + margin_error)"
      ],
      "metadata": {
        "id": "aYlPM_peiX2p"
      },
      "execution_count": null,
      "outputs": []
    },
    {
      "cell_type": "code",
      "source": [
        "# printing confidence interval for known population standard deviation\n",
        "ci_pop"
      ],
      "metadata": {
        "colab": {
          "base_uri": "https://localhost:8080/"
        },
        "id": "M7IrjEjIfQNy",
        "outputId": "c3310aff-b573-4204-f5e8-07c4e9c1dd22"
      },
      "execution_count": null,
      "outputs": [
        {
          "output_type": "execute_result",
          "data": {
            "text/plain": [
              "(1.1056514133957607, 1.3716819199375725)"
            ]
          },
          "metadata": {},
          "execution_count": 35
        }
      ]
    },
    {
      "cell_type": "code",
      "source": [],
      "metadata": {
        "id": "bOnyvXXIfeR9"
      },
      "execution_count": null,
      "outputs": []
    }
  ]
}